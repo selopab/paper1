{
 "cells": [
  {
   "cell_type": "markdown",
   "metadata": {},
   "source": [
    "# IV approch for Employee presence\n",
    "\n",
    "This document presents several approaches to try to use an IV approach for employee presence and its interaction with treatment. Unfortunately, the time of the hearing is a very weak instrument for employee presence (F-stat $< 4$) and the coefficients of the main table are not signifficant. "
   ]
  },
  {
   "cell_type": "code",
   "execution_count": null,
   "metadata": {
    "scrolled": true
   },
   "outputs": [],
   "source": [
    "clear\n",
    "set more off\n",
    "qui cd \"D:\\MCLC\\Pilot 1\\information_sett\\ReplicationFinal\"\n",
    "//qui do \".\\DoFiles\\tabnumlab.do\""
   ]
  },
  {
   "cell_type": "markdown",
   "metadata": {},
   "source": [
    "### Limpieza de la base"
   ]
  },
  {
   "cell_type": "code",
   "execution_count": null,
   "metadata": {
    "scrolled": true
   },
   "outputs": [],
   "source": [
    "// Loading and cleaning the database\n",
    "\n",
    "local controls i.anio i.junta i.phase i.numActores\n",
    "local balance_var gen trabajador_base horas_sem c_antiguedad abogado_pub reinst indem salario_diario sal_caidos prima_antig hextra rec20  prima_dom  desc_sem desc_ob sarimssinf utilidades nulidad min_ley \n",
    "\n",
    "qui use \"./DB/scaleup_operation.dta\", clear\n",
    "rename año anio\n",
    "rename expediente exp\n",
    "qui merge m:1 junta exp anio using \"./DB/scaleup_casefiles_wod.dta\" , nogen  keep(1 3)\n",
    "\n",
    "*Notified casefiles\n",
    "qui keep if notificado==1\n",
    "\n",
    "*Homologation\n",
    "qui gen treatment=.\n",
    "qui replace treatment=2 if dia_tratamiento==1\n",
    "qui replace treatment=1 if dia_tratamiento==0\n",
    "rename convenio seconcilio\n",
    "rename convenio_seg_2m convenio_2m \n",
    "rename convenio_seg_5m convenio_5m\n",
    "qui gen fecha=date(fecha_lista,\"YMD\")\n",
    "format fecha %td\n",
    "\n",
    "\n",
    "*Time hearing (Instrument)\n",
    "qui gen time_hearing=substr(horario_aud,strpos(horario_aud,\" \"),length(horario_aud))\n",
    "qui egen time_hr=group(time_hearing)\n",
    "\n",
    "keep seconcilio convenio_2m convenio_5m fecha junta exp anio fecha treatment p_actor abogado_pub time_hearing time_hr numActores `balance_var'\n",
    "qui gen phase=2\n",
    "tempfile p2\n",
    "qui save `p2'\n",
    "\n",
    "use \"./DB/pilot_operation.dta\" , clear\t\n",
    "qui replace junta=7 if missing(junta)\n",
    "\n",
    "*Presence employee\n",
    "qui replace p_actor=(p_actor==1)\n",
    "*Not in experiment\n",
    "qui drop if tratamientoquelestoco==0\n",
    "rename tratamientoquelestoco treatment\n",
    "rename expediente exp\n",
    "\n",
    "*Time hearing (Instrument)\n",
    "qui gen time_hearing=substr(horarioaudiencia,strpos(horarioaudiencia,\" \"),length(horarioaudiencia))\n",
    "qui egen time_hr=group(time_hearing)\n",
    "\n",
    "qui keep seconcilio convenio_2m convenio_5m fecha junta exp anio fecha treatment p_actor abogado_pub time_hearing time_hr numActores `balance_var'\n",
    "qui append using `p2'\n",
    "qui replace phase=1 if missing(phase)\n",
    "\n",
    "qui merge m:1 junta exp anio using \".\\DB\\seguimiento_m5m.dta\", nogen\n",
    "qui merge m:1 junta exp anio using \".\\Terminaciones\\Data\\followUps2020.dta\", gen(merchados) keep(1 3)\n",
    "qui replace seconcilio = 0 if modoTermino != 3 & !missing(modoTermino)\n",
    "********************************************************************************\n",
    "\n",
    "bysort junta exp anio: gen DuplicatesPredrop=_N\n",
    "forvalues i=1/3{\n",
    "\tqui gen T`i'_aux=[treatment==`i'] \n",
    "\tqui bysort junta exp anio: egen T`i'=max(T`i'_aux)\n",
    "}\n",
    "\n",
    "qui gen T1T2=[T1==1 & T2==1]\n",
    "qui gen T1T3=[T1==1 & T3==1]\n",
    "qui gen T2T3=[T2==1 & T3==1]\n",
    "qui gen TAll=[T1==1 & T2==1 & T3==1]\n",
    "\n",
    "qui replace T1T2=0 if TAll==1\n",
    "qui replace T1T3=0 if TAll==1\n",
    "qui replace T2T3=0 if TAll==1\n",
    "*32 drops\n",
    "*drop if T1T2==1 & treatment == 1\n",
    "*46 drops\n",
    "qui drop if T1T3==1\n",
    "*31 drops\n",
    "qui drop if T2T3==1\n",
    "*8 drops\n",
    "qui drop if TAll==1\n",
    "\n",
    "*bysort junta exp anio: gen DuplicatesPostdrop=_N\n",
    "\n",
    "*44 drops\n",
    "*sort junta exp anio fecha\n",
    "*bysort junta exp anio: keep if _n==1\n",
    "********************************************************************************\n",
    "\n",
    "sort junta exp anio fecha\n",
    "qui by junta exp anio: gen renglon = _n\n",
    "qui keep if renglon==1\n",
    "\n",
    "*Drop conciliator observations\n",
    "qui drop if treatment==3\n",
    "\n",
    "qui replace anio = 2010 if anio < 2010\n",
    "qui replace numActores = 3 if numActores>3\n",
    "\n",
    "global controls i.anio i.junta i.phase i.numActores\n",
    "qui gen treatment2  = treatment -1\n"
   ]
  },
  {
   "cell_type": "markdown",
   "metadata": {},
   "source": [
    "## Instrumented by \"extreme\"  hours: before 10 am or between 12 and 1 pm"
   ]
  },
  {
   "cell_type": "code",
   "execution_count": null,
   "metadata": {
    "scrolled": false
   },
   "outputs": [],
   "source": [
    "gen time_instrument=inlist(time_hr,1,2,7,8) if !missing(time_hr) \n",
    "ivregress 2sls seconcilio treatment2 $controls (1.p_actor 1.p_actor#1.treatment2 = 1.time_instrument 1.time_instrument#1.treatment2), first"
   ]
  },
  {
   "cell_type": "markdown",
   "metadata": {},
   "source": [
    "## Instrumented by \"super extreme\"  hours: before 9:30 am or between 12:30 and 1 pm"
   ]
  },
  {
   "cell_type": "code",
   "execution_count": null,
   "metadata": {
    "scrolled": false
   },
   "outputs": [],
   "source": [
    "gen time_instrument_e=inlist(time_hr,1,8) if !missing(time_hr) \n",
    "ivregress 2sls seconcilio treatment2 $controls (1.p_actor 1.p_actor#1.treatment2 = 1.time_instrument_e 1.time_instrument_e#1.treatment2), first"
   ]
  },
  {
   "cell_type": "markdown",
   "metadata": {},
   "source": [
    "## Instrumented by \"extreme\" early hours: before 10 am"
   ]
  },
  {
   "cell_type": "code",
   "execution_count": null,
   "metadata": {
    "scrolled": false
   },
   "outputs": [],
   "source": [
    "gen time_instrument_early=inlist(time_hr,1,2) if !missing(time_hr) \n",
    "ivregress 2sls seconcilio treatment2 $controls (1.p_actor 1.p_actor#1.treatment2 = 1.time_instrument_early 1.time_instrument_early#1.treatment2), first"
   ]
  },
  {
   "cell_type": "markdown",
   "metadata": {},
   "source": [
    "## Instrumented by \"extreme\" super early hours: before 9:30 am"
   ]
  },
  {
   "cell_type": "code",
   "execution_count": null,
   "metadata": {
    "scrolled": false
   },
   "outputs": [],
   "source": [
    "gen time_instrument_Searly=inlist(time_hr,1) if !missing(time_hr) \n",
    "ivregress 2sls seconcilio treatment2 $controls (1.p_actor 1.p_actor#1.treatment2 = 1.time_instrument_Searly 1.time_instrument_Searly#1.treatment2), first"
   ]
  },
  {
   "cell_type": "markdown",
   "metadata": {},
   "source": [
    "## Instrumented by \"extreme\" late hours: between 12:30 and 13"
   ]
  },
  {
   "cell_type": "code",
   "execution_count": null,
   "metadata": {
    "scrolled": false
   },
   "outputs": [],
   "source": [
    "gen time_instrument_Slate=inlist(time_hr,8) if !missing(time_hr) \n",
    "ivregress 2sls seconcilio treatment2 $controls (1.p_actor 1.p_actor#1.treatment2 = 1.time_instrument_Slate 1.time_instrument_Slate#1.treatment2), first"
   ]
  },
  {
   "cell_type": "markdown",
   "metadata": {},
   "source": [
    "## Instrumented by \"extreme\" hours: before 9:30 or between 12:30 and 13"
   ]
  },
  {
   "cell_type": "code",
   "execution_count": null,
   "metadata": {
    "scrolled": false
   },
   "outputs": [],
   "source": [
    "gen time_instrument_extreme=inlist(time_hr,1,8) if !missing(time_hr) \n",
    "ivregress 2sls seconcilio treatment2 $controls (1.p_actor 1.p_actor#1.treatment2 = 1.time_instrument_extreme 1.time_instrument_extreme#1.treatment2), first"
   ]
  },
  {
   "cell_type": "markdown",
   "metadata": {},
   "source": [
    "## Instrumented by earlt hours: before 11 am (the median)"
   ]
  },
  {
   "cell_type": "code",
   "execution_count": null,
   "metadata": {
    "scrolled": true
   },
   "outputs": [],
   "source": [
    "h ivregress"
   ]
  },
  {
   "cell_type": "code",
   "execution_count": null,
   "metadata": {
    "scrolled": false
   },
   "outputs": [],
   "source": [
    "gen time_instrument_leqMedian=time_hr<5 if !missing(time_hr) \n",
    "ivregress 2sls seconcilio treatment2 $controls (1.p_actor 1.p_actor#1.treatment2 = 1.time_instrument_leqMedian 1.time_instrument_leqMedian#1.treatment2), first\n"
   ]
  }
 ],
 "metadata": {
  "celltoolbar": "Raw Cell Format",
  "kernelspec": {
   "display_name": "Stata",
   "language": "stata",
   "name": "stata"
  },
  "language_info": {
   "codemirror_mode": "stata",
   "file_extension": ".do",
   "mimetype": "text/x-stata",
   "name": "stata",
   "version": "15.1"
  }
 },
 "nbformat": 4,
 "nbformat_minor": 2
}
